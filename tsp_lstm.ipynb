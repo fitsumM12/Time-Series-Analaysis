{
 "cells": [
  {
   "attachments": {},
   "cell_type": "markdown",
   "metadata": {},
   "source": [
    "## Time series prediction with LSTM recurrent neural networks in Python with keras"
   ]
  },
  {
   "cell_type": "code",
   "execution_count": 1,
   "metadata": {},
   "outputs": [],
   "source": [
    "# Problem: Predict the number of internaational airline\n",
    "# passengers in units of 1000. the data ranges from january 1949\n",
    "# to december 1960 or 12 years, with 144 observations."
   ]
  },
  {
   "cell_type": "code",
   "execution_count": 29,
   "metadata": {},
   "outputs": [],
   "source": [
    "\n",
    "import numpy as np\n",
    "import matplotlib.pyplot as plt\n",
    "import pandas as pd\n",
    "import tensorflow as tf\n",
    "from tensorflow.keras.models import Sequential\n",
    "from tensorflow.keras.layers import Dense\n",
    "from tensorflow.keras.layers import LSTM\n",
    "from sklearn.preprocessing import MinMaxScaler\n",
    "from sklearn.metrics import mean_squared_error"
   ]
  },
  {
   "cell_type": "code",
   "execution_count": 30,
   "metadata": {},
   "outputs": [],
   "source": [
    "\n",
    "# fix random seed for reproducibility\n",
    "tf.random.set_seed(7)"
   ]
  },
  {
   "cell_type": "code",
   "execution_count": 31,
   "metadata": {},
   "outputs": [],
   "source": [
    "\n",
    "# load the dataset\n",
    "dataframe = pd.read_csv('airline-passengers.csv', usecols=[1], engine='python')\n",
    "dataset = dataframe.values\n",
    "dataset = dataset.astype('float32')"
   ]
  },
  {
   "cell_type": "code",
   "execution_count": 32,
   "metadata": {},
   "outputs": [],
   "source": [
    "\n",
    "# normalize the dataset\n",
    "scaler = MinMaxScaler(feature_range=(0, 1))\n",
    "dataset = scaler.fit_transform(dataset)"
   ]
  },
  {
   "cell_type": "code",
   "execution_count": 33,
   "metadata": {},
   "outputs": [
    {
     "name": "stdout",
     "output_type": "stream",
     "text": [
      "96 48\n"
     ]
    }
   ],
   "source": [
    "# split into train and test sets\n",
    "train_size = int(len(dataset) * 0.67)\n",
    "test_size = len(dataset) - train_size\n",
    "train, test = dataset[0:train_size,:], dataset[train_size:len(dataset),:]\n",
    "print(len(train), len(test))"
   ]
  },
  {
   "cell_type": "code",
   "execution_count": 35,
   "metadata": {},
   "outputs": [],
   "source": [
    "\n",
    "# convert an array of values into a dataset matrix\n",
    "def create_dataset(dataset, look_back=1):\n",
    " dataX, dataY = [], []\n",
    " for i in range(len(dataset)-look_back-1):\n",
    "    a = dataset[i:(i+look_back), 0]\n",
    "    dataX.append(a)\n",
    "    dataY.append(dataset[i + look_back, 0])\n",
    " return np.array(dataX), np.array(dataY)"
   ]
  },
  {
   "cell_type": "code",
   "execution_count": 36,
   "metadata": {},
   "outputs": [],
   "source": [
    "# reshape into X=t and Y=t+1\n",
    "look_back = 1\n",
    "trainX, trainY = create_dataset(train, look_back)\n",
    "testX, testY = create_dataset(test, look_back)"
   ]
  },
  {
   "cell_type": "code",
   "execution_count": 37,
   "metadata": {},
   "outputs": [],
   "source": [
    "\n",
    "# reshape input to be [samples, time steps, features]\n",
    "trainX = np.reshape(trainX, (trainX.shape[0], 1, trainX.shape[1]))\n",
    "testX = np.reshape(testX, (testX.shape[0], 1, testX.shape[1]))"
   ]
  },
  {
   "cell_type": "code",
   "execution_count": 12,
   "metadata": {},
   "outputs": [],
   "source": [
    "# reshape into X=t and Y = t+1\n",
    "look_back = 1\n",
    "trainX, trainY =  creat_dataset(train, look_back)\n",
    "testX, testY = creat_dataset(test,look_back)"
   ]
  },
  {
   "cell_type": "code",
   "execution_count": 18,
   "metadata": {},
   "outputs": [],
   "source": [
    "# reshape the input to be [sample, timesteps, features]\n",
    "trainX = np.reshape(trainX, (trainX.shape[0], 1, trainX.shape[1]))\n",
    "testX = np.reshape(testX, (testX.shape[0],1,testX.shape[1]))"
   ]
  },
  {
   "cell_type": "code",
   "execution_count": 38,
   "metadata": {},
   "outputs": [
    {
     "name": "stdout",
     "output_type": "stream",
     "text": [
      "Epoch 1/100\n",
      "94/94 - 2s - loss: 0.0431 - 2s/epoch - 18ms/step\n",
      "Epoch 2/100\n",
      "94/94 - 0s - loss: 0.0229 - 193ms/epoch - 2ms/step\n",
      "Epoch 3/100\n",
      "94/94 - 0s - loss: 0.0163 - 162ms/epoch - 2ms/step\n",
      "Epoch 4/100\n",
      "94/94 - 0s - loss: 0.0148 - 153ms/epoch - 2ms/step\n",
      "Epoch 5/100\n",
      "94/94 - 0s - loss: 0.0140 - 170ms/epoch - 2ms/step\n",
      "Epoch 6/100\n",
      "94/94 - 0s - loss: 0.0130 - 147ms/epoch - 2ms/step\n",
      "Epoch 7/100\n",
      "94/94 - 0s - loss: 0.0121 - 176ms/epoch - 2ms/step\n",
      "Epoch 8/100\n",
      "94/94 - 0s - loss: 0.0112 - 168ms/epoch - 2ms/step\n",
      "Epoch 9/100\n",
      "94/94 - 0s - loss: 0.0104 - 178ms/epoch - 2ms/step\n",
      "Epoch 10/100\n",
      "94/94 - 0s - loss: 0.0094 - 161ms/epoch - 2ms/step\n",
      "Epoch 11/100\n",
      "94/94 - 0s - loss: 0.0084 - 187ms/epoch - 2ms/step\n",
      "Epoch 12/100\n",
      "94/94 - 0s - loss: 0.0074 - 159ms/epoch - 2ms/step\n",
      "Epoch 13/100\n",
      "94/94 - 0s - loss: 0.0066 - 172ms/epoch - 2ms/step\n",
      "Epoch 14/100\n",
      "94/94 - 0s - loss: 0.0057 - 177ms/epoch - 2ms/step\n",
      "Epoch 15/100\n",
      "94/94 - 0s - loss: 0.0050 - 167ms/epoch - 2ms/step\n",
      "Epoch 16/100\n",
      "94/94 - 0s - loss: 0.0043 - 167ms/epoch - 2ms/step\n",
      "Epoch 17/100\n",
      "94/94 - 0s - loss: 0.0037 - 151ms/epoch - 2ms/step\n",
      "Epoch 18/100\n",
      "94/94 - 0s - loss: 0.0032 - 162ms/epoch - 2ms/step\n",
      "Epoch 19/100\n",
      "94/94 - 0s - loss: 0.0029 - 177ms/epoch - 2ms/step\n",
      "Epoch 20/100\n",
      "94/94 - 0s - loss: 0.0026 - 163ms/epoch - 2ms/step\n",
      "Epoch 21/100\n",
      "94/94 - 0s - loss: 0.0024 - 154ms/epoch - 2ms/step\n",
      "Epoch 22/100\n",
      "94/94 - 0s - loss: 0.0022 - 154ms/epoch - 2ms/step\n",
      "Epoch 23/100\n",
      "94/94 - 0s - loss: 0.0021 - 149ms/epoch - 2ms/step\n",
      "Epoch 24/100\n",
      "94/94 - 0s - loss: 0.0020 - 190ms/epoch - 2ms/step\n",
      "Epoch 25/100\n",
      "94/94 - 0s - loss: 0.0021 - 167ms/epoch - 2ms/step\n",
      "Epoch 26/100\n",
      "94/94 - 0s - loss: 0.0020 - 168ms/epoch - 2ms/step\n",
      "Epoch 27/100\n",
      "94/94 - 0s - loss: 0.0020 - 169ms/epoch - 2ms/step\n",
      "Epoch 28/100\n",
      "94/94 - 0s - loss: 0.0020 - 152ms/epoch - 2ms/step\n",
      "Epoch 29/100\n",
      "94/94 - 0s - loss: 0.0021 - 163ms/epoch - 2ms/step\n",
      "Epoch 30/100\n",
      "94/94 - 0s - loss: 0.0020 - 190ms/epoch - 2ms/step\n",
      "Epoch 31/100\n",
      "94/94 - 0s - loss: 0.0020 - 203ms/epoch - 2ms/step\n",
      "Epoch 32/100\n",
      "94/94 - 0s - loss: 0.0021 - 177ms/epoch - 2ms/step\n",
      "Epoch 33/100\n",
      "94/94 - 0s - loss: 0.0021 - 203ms/epoch - 2ms/step\n",
      "Epoch 34/100\n",
      "94/94 - 0s - loss: 0.0020 - 186ms/epoch - 2ms/step\n",
      "Epoch 35/100\n",
      "94/94 - 0s - loss: 0.0021 - 277ms/epoch - 3ms/step\n",
      "Epoch 36/100\n",
      "94/94 - 0s - loss: 0.0020 - 240ms/epoch - 3ms/step\n",
      "Epoch 37/100\n",
      "94/94 - 0s - loss: 0.0020 - 224ms/epoch - 2ms/step\n",
      "Epoch 38/100\n",
      "94/94 - 0s - loss: 0.0020 - 184ms/epoch - 2ms/step\n",
      "Epoch 39/100\n",
      "94/94 - 0s - loss: 0.0020 - 169ms/epoch - 2ms/step\n",
      "Epoch 40/100\n",
      "94/94 - 0s - loss: 0.0020 - 172ms/epoch - 2ms/step\n",
      "Epoch 41/100\n",
      "94/94 - 0s - loss: 0.0020 - 166ms/epoch - 2ms/step\n",
      "Epoch 42/100\n",
      "94/94 - 0s - loss: 0.0020 - 157ms/epoch - 2ms/step\n",
      "Epoch 43/100\n",
      "94/94 - 0s - loss: 0.0020 - 163ms/epoch - 2ms/step\n",
      "Epoch 44/100\n",
      "94/94 - 0s - loss: 0.0020 - 159ms/epoch - 2ms/step\n",
      "Epoch 45/100\n",
      "94/94 - 0s - loss: 0.0021 - 152ms/epoch - 2ms/step\n",
      "Epoch 46/100\n",
      "94/94 - 0s - loss: 0.0019 - 151ms/epoch - 2ms/step\n",
      "Epoch 47/100\n",
      "94/94 - 0s - loss: 0.0020 - 150ms/epoch - 2ms/step\n",
      "Epoch 48/100\n",
      "94/94 - 0s - loss: 0.0021 - 172ms/epoch - 2ms/step\n",
      "Epoch 49/100\n",
      "94/94 - 0s - loss: 0.0020 - 156ms/epoch - 2ms/step\n",
      "Epoch 50/100\n",
      "94/94 - 0s - loss: 0.0020 - 194ms/epoch - 2ms/step\n",
      "Epoch 51/100\n",
      "94/94 - 0s - loss: 0.0020 - 146ms/epoch - 2ms/step\n",
      "Epoch 52/100\n",
      "94/94 - 0s - loss: 0.0020 - 170ms/epoch - 2ms/step\n",
      "Epoch 53/100\n",
      "94/94 - 0s - loss: 0.0020 - 157ms/epoch - 2ms/step\n",
      "Epoch 54/100\n",
      "94/94 - 0s - loss: 0.0020 - 152ms/epoch - 2ms/step\n",
      "Epoch 55/100\n",
      "94/94 - 0s - loss: 0.0020 - 207ms/epoch - 2ms/step\n",
      "Epoch 56/100\n",
      "94/94 - 0s - loss: 0.0020 - 193ms/epoch - 2ms/step\n",
      "Epoch 57/100\n",
      "94/94 - 0s - loss: 0.0020 - 152ms/epoch - 2ms/step\n",
      "Epoch 58/100\n",
      "94/94 - 0s - loss: 0.0020 - 159ms/epoch - 2ms/step\n",
      "Epoch 59/100\n",
      "94/94 - 0s - loss: 0.0020 - 159ms/epoch - 2ms/step\n",
      "Epoch 60/100\n",
      "94/94 - 0s - loss: 0.0020 - 153ms/epoch - 2ms/step\n",
      "Epoch 61/100\n",
      "94/94 - 0s - loss: 0.0020 - 152ms/epoch - 2ms/step\n",
      "Epoch 62/100\n",
      "94/94 - 0s - loss: 0.0021 - 150ms/epoch - 2ms/step\n",
      "Epoch 63/100\n",
      "94/94 - 0s - loss: 0.0020 - 147ms/epoch - 2ms/step\n",
      "Epoch 64/100\n",
      "94/94 - 0s - loss: 0.0020 - 169ms/epoch - 2ms/step\n",
      "Epoch 65/100\n",
      "94/94 - 0s - loss: 0.0020 - 179ms/epoch - 2ms/step\n",
      "Epoch 66/100\n",
      "94/94 - 0s - loss: 0.0020 - 177ms/epoch - 2ms/step\n",
      "Epoch 67/100\n",
      "94/94 - 0s - loss: 0.0021 - 193ms/epoch - 2ms/step\n",
      "Epoch 68/100\n",
      "94/94 - 0s - loss: 0.0020 - 156ms/epoch - 2ms/step\n",
      "Epoch 69/100\n",
      "94/94 - 0s - loss: 0.0020 - 153ms/epoch - 2ms/step\n",
      "Epoch 70/100\n",
      "94/94 - 0s - loss: 0.0020 - 147ms/epoch - 2ms/step\n",
      "Epoch 71/100\n",
      "94/94 - 0s - loss: 0.0020 - 144ms/epoch - 2ms/step\n",
      "Epoch 72/100\n",
      "94/94 - 0s - loss: 0.0020 - 150ms/epoch - 2ms/step\n",
      "Epoch 73/100\n",
      "94/94 - 0s - loss: 0.0020 - 152ms/epoch - 2ms/step\n",
      "Epoch 74/100\n",
      "94/94 - 0s - loss: 0.0021 - 162ms/epoch - 2ms/step\n",
      "Epoch 75/100\n",
      "94/94 - 0s - loss: 0.0020 - 161ms/epoch - 2ms/step\n",
      "Epoch 76/100\n",
      "94/94 - 0s - loss: 0.0020 - 144ms/epoch - 2ms/step\n",
      "Epoch 77/100\n",
      "94/94 - 0s - loss: 0.0019 - 164ms/epoch - 2ms/step\n",
      "Epoch 78/100\n",
      "94/94 - 0s - loss: 0.0020 - 171ms/epoch - 2ms/step\n",
      "Epoch 79/100\n",
      "94/94 - 0s - loss: 0.0020 - 180ms/epoch - 2ms/step\n",
      "Epoch 80/100\n",
      "94/94 - 0s - loss: 0.0020 - 173ms/epoch - 2ms/step\n",
      "Epoch 81/100\n",
      "94/94 - 0s - loss: 0.0019 - 174ms/epoch - 2ms/step\n",
      "Epoch 82/100\n",
      "94/94 - 0s - loss: 0.0021 - 165ms/epoch - 2ms/step\n",
      "Epoch 83/100\n",
      "94/94 - 0s - loss: 0.0020 - 146ms/epoch - 2ms/step\n",
      "Epoch 84/100\n",
      "94/94 - 0s - loss: 0.0019 - 137ms/epoch - 1ms/step\n",
      "Epoch 85/100\n",
      "94/94 - 0s - loss: 0.0020 - 145ms/epoch - 2ms/step\n",
      "Epoch 86/100\n",
      "94/94 - 0s - loss: 0.0020 - 138ms/epoch - 1ms/step\n",
      "Epoch 87/100\n",
      "94/94 - 0s - loss: 0.0021 - 146ms/epoch - 2ms/step\n",
      "Epoch 88/100\n",
      "94/94 - 0s - loss: 0.0020 - 160ms/epoch - 2ms/step\n",
      "Epoch 89/100\n",
      "94/94 - 0s - loss: 0.0020 - 149ms/epoch - 2ms/step\n",
      "Epoch 90/100\n",
      "94/94 - 0s - loss: 0.0020 - 139ms/epoch - 1ms/step\n",
      "Epoch 91/100\n",
      "94/94 - 0s - loss: 0.0020 - 144ms/epoch - 2ms/step\n",
      "Epoch 92/100\n",
      "94/94 - 0s - loss: 0.0020 - 143ms/epoch - 2ms/step\n",
      "Epoch 93/100\n",
      "94/94 - 0s - loss: 0.0020 - 139ms/epoch - 1ms/step\n",
      "Epoch 94/100\n",
      "94/94 - 0s - loss: 0.0020 - 134ms/epoch - 1ms/step\n",
      "Epoch 95/100\n",
      "94/94 - 0s - loss: 0.0021 - 164ms/epoch - 2ms/step\n",
      "Epoch 96/100\n",
      "94/94 - 0s - loss: 0.0020 - 171ms/epoch - 2ms/step\n",
      "Epoch 97/100\n",
      "94/94 - 0s - loss: 0.0020 - 151ms/epoch - 2ms/step\n",
      "Epoch 98/100\n",
      "94/94 - 0s - loss: 0.0020 - 148ms/epoch - 2ms/step\n",
      "Epoch 99/100\n",
      "94/94 - 0s - loss: 0.0020 - 192ms/epoch - 2ms/step\n",
      "Epoch 100/100\n",
      "94/94 - 0s - loss: 0.0020 - 143ms/epoch - 2ms/step\n"
     ]
    },
    {
     "data": {
      "text/plain": [
       "<keras.callbacks.History at 0x1d6c554cee0>"
      ]
     },
     "execution_count": 38,
     "metadata": {},
     "output_type": "execute_result"
    }
   ],
   "source": [
    "\n",
    "# create and fit the LSTM network\n",
    "model = Sequential()\n",
    "model.add(LSTM(4, input_shape=(1, look_back)))\n",
    "model.add(Dense(1))\n",
    "model.compile(loss='mean_squared_error', optimizer='adam')\n",
    "model.fit(trainX, trainY, epochs=100, batch_size=1, verbose=2)"
   ]
  },
  {
   "cell_type": "code",
   "execution_count": 39,
   "metadata": {},
   "outputs": [
    {
     "name": "stdout",
     "output_type": "stream",
     "text": [
      "3/3 [==============================] - 1s 3ms/step\n",
      "2/2 [==============================] - 0s 4ms/step\n",
      "Train Score: 22.68 RMSE\n",
      "Test Score: 49.34 RMSE\n"
     ]
    }
   ],
   "source": [
    "# make predictions\n",
    "trainPredict = model.predict(trainX)\n",
    "testPredict = model.predict(testX)\n",
    "# invert predictions\n",
    "trainPredict = scaler.inverse_transform(trainPredict)\n",
    "trainY = scaler.inverse_transform([trainY])\n",
    "testPredict = scaler.inverse_transform(testPredict)\n",
    "testY = scaler.inverse_transform([testY])\n",
    "# calculate root mean squared error\n",
    "trainScore = np.sqrt(mean_squared_error(trainY[0], trainPredict[:,0]))\n",
    "print('Train Score: %.2f RMSE' % (trainScore))\n",
    "testScore = np.sqrt(mean_squared_error(testY[0], testPredict[:,0]))\n",
    "print('Test Score: %.2f RMSE' % (testScore))"
   ]
  },
  {
   "cell_type": "code",
   "execution_count": 40,
   "metadata": {},
   "outputs": [
    {
     "data": {
      "image/png": "[encoded data removed]",
      "text/plain": [
       "<Figure size 432x288 with 1 Axes>"
      ]
     },
     "metadata": {
      "needs_background": "light"
     },
     "output_type": "display_data"
    }
   ],
   "source": [
    "# shift train predictions for plotting\n",
    "trainPredictPlot = np.empty_like(dataset)\n",
    "trainPredictPlot[:, :] = np.nan\n",
    "trainPredictPlot[look_back:len(trainPredict)+look_back, :] = trainPredict\n",
    "# shift test predictions for plotting\n",
    "testPredictPlot = np.empty_like(dataset)\n",
    "testPredictPlot[:, :] = np.nan\n",
    "testPredictPlot[len(trainPredict)+(look_back*2)+1:len(dataset)-1, :] = testPredict\n",
    "# plot baseline and predictions\n",
    "plt.plot(scaler.inverse_transform(dataset))\n",
    "plt.plot(trainPredictPlot)\n",
    "plt.plot(testPredictPlot)\n",
    "plt.show()"
   ]
  }
 ],
 "metadata": {
  "kernelspec": {
   "display_name": "base",
   "language": "python",
   "name": "python3"
  },
  "language_info": {
   "codemirror_mode": {
    "name": "ipython",
    "version": 3
   },
   "file_extension": ".py",
   "mimetype": "text/x-python",
   "name": "python",
   "nbconvert_exporter": "python",
   "pygments_lexer": "ipython3",
   "version": "3.9.7"
  },
  "orig_nbformat": 4,
  "vscode": {
   "interpreter": {
    "hash": "41682a9b6c281807224b3eb138bbfeadf454985a6f6bc25ce958de670ddcd6c8"
   }
  }
 },
 "nbformat": 4,
 "nbformat_minor": 2
}
