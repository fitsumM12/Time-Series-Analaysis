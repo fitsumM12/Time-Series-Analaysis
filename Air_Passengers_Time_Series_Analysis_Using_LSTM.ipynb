{
  "cells": [
    {
      "cell_type": "markdown",
      "metadata": {
        "id": "view-in-github",
        "colab_type": "text"
      },
      "source": [
        "<a href=\"https://colab.research.google.com/github/fitsumM12/Time-Series-Analaysis/blob/main/Air_Passengers_Time_Series_Analysis_Using_LSTM.ipynb\" target=\"_parent\"><img src=\"https://colab.research.google.com/assets/colab-badge.svg\" alt=\"Open In Colab\"/></a>"
      ]
    },
    {
      "cell_type": "code",
      "execution_count": 35,
      "id": "6f85dfa2",
      "metadata": {
        "id": "6f85dfa2"
      },
      "outputs": [],
      "source": [
        "# Libraries\n",
        "import numpy as np\n",
        "import pandas as pd\n",
        "\n",
        "import matplotlib.pyplot as plt\n",
        "%matplotlib inline\n",
        "\n",
        "import math\n",
        "from keras.models import Sequential\n",
        "from keras.layers import Dense\n",
        "from keras.layers import LSTM\n",
        "from sklearn.preprocessing import MinMaxScaler\n",
        "from sklearn.metrics import mean_squared_error\n",
        "from sklearn.metrics import mean_absolute_error\n",
        "\n",
        "import itertools\n",
        "import warnings\n",
        "warnings.filterwarnings('ignore')"
      ]
    },
    {
      "cell_type": "code",
      "execution_count": 36,
      "id": "c4523124",
      "metadata": {
        "id": "c4523124"
      },
      "outputs": [],
      "source": [
        "df = pd.read_csv(\"/content/AirPassengers.csv\")"
      ]
    },
    {
      "cell_type": "code",
      "execution_count": 37,
      "id": "8d777742",
      "metadata": {
        "id": "8d777742"
      },
      "outputs": [],
      "source": [
        "# convert the 'Month' column to datetime\n",
        "df['Month'] = pd.to_datetime(df['Month'])\n",
        "\n",
        "# set the index to the 'Month' column\n",
        "df.set_index('Month', inplace=True)"
      ]
    },
    {
      "cell_type": "code",
      "execution_count": 38,
      "id": "1f935ce1",
      "metadata": {
        "id": "1f935ce1"
      },
      "outputs": [],
      "source": [
        "df= df.rename(columns = {'#Passengers': 'Passengers'})"
      ]
    },
    {
      "cell_type": "code",
      "source": [
        "df.head()"
      ],
      "metadata": {
        "colab": {
          "base_uri": "https://localhost:8080/",
          "height": 237
        },
        "id": "rkssTfj0Ba-k",
        "outputId": "b7c7de54-08db-467b-ae42-fe5692c2059e"
      },
      "id": "rkssTfj0Ba-k",
      "execution_count": 39,
      "outputs": [
        {
          "output_type": "execute_result",
          "data": {
            "text/plain": [
              "            Passengers\n",
              "Month                 \n",
              "1949-01-01         112\n",
              "1949-02-01         118\n",
              "1949-03-01         132\n",
              "1949-04-01         129\n",
              "1949-05-01         121"
            ],
            "text/html": [
              "\n",
              "  <div id=\"df-5fb02f01-1509-4efa-9db6-333b585b2e72\">\n",
              "    <div class=\"colab-df-container\">\n",
              "      <div>\n",
              "<style scoped>\n",
              "    .dataframe tbody tr th:only-of-type {\n",
              "        vertical-align: middle;\n",
              "    }\n",
              "\n",
              "    .dataframe tbody tr th {\n",
              "        vertical-align: top;\n",
              "    }\n",
              "\n",
              "    .dataframe thead th {\n",
              "        text-align: right;\n",
              "    }\n",
              "</style>\n",
              "<table border=\"1\" class=\"dataframe\">\n",
              "  <thead>\n",
              "    <tr style=\"text-align: right;\">\n",
              "      <th></th>\n",
              "      <th>Passengers</th>\n",
              "    </tr>\n",
              "    <tr>\n",
              "      <th>Month</th>\n",
              "      <th></th>\n",
              "    </tr>\n",
              "  </thead>\n",
              "  <tbody>\n",
              "    <tr>\n",
              "      <th>1949-01-01</th>\n",
              "      <td>112</td>\n",
              "    </tr>\n",
              "    <tr>\n",
              "      <th>1949-02-01</th>\n",
              "      <td>118</td>\n",
              "    </tr>\n",
              "    <tr>\n",
              "      <th>1949-03-01</th>\n",
              "      <td>132</td>\n",
              "    </tr>\n",
              "    <tr>\n",
              "      <th>1949-04-01</th>\n",
              "      <td>129</td>\n",
              "    </tr>\n",
              "    <tr>\n",
              "      <th>1949-05-01</th>\n",
              "      <td>121</td>\n",
              "    </tr>\n",
              "  </tbody>\n",
              "</table>\n",
              "</div>\n",
              "      <button class=\"colab-df-convert\" onclick=\"convertToInteractive('df-5fb02f01-1509-4efa-9db6-333b585b2e72')\"\n",
              "              title=\"Convert this dataframe to an interactive table.\"\n",
              "              style=\"display:none;\">\n",
              "        \n",
              "  <svg xmlns=\"http://www.w3.org/2000/svg\" height=\"24px\"viewBox=\"0 0 24 24\"\n",
              "       width=\"24px\">\n",
              "    <path d=\"M0 0h24v24H0V0z\" fill=\"none\"/>\n",
              "    <path d=\"M18.56 5.44l.94 2.06.94-2.06 2.06-.94-2.06-.94-.94-2.06-.94 2.06-2.06.94zm-11 1L8.5 8.5l.94-2.06 2.06-.94-2.06-.94L8.5 2.5l-.94 2.06-2.06.94zm10 10l.94 2.06.94-2.06 2.06-.94-2.06-.94-.94-2.06-.94 2.06-2.06.94z\"/><path d=\"M17.41 7.96l-1.37-1.37c-.4-.4-.92-.59-1.43-.59-.52 0-1.04.2-1.43.59L10.3 9.45l-7.72 7.72c-.78.78-.78 2.05 0 2.83L4 21.41c.39.39.9.59 1.41.59.51 0 1.02-.2 1.41-.59l7.78-7.78 2.81-2.81c.8-.78.8-2.07 0-2.86zM5.41 20L4 18.59l7.72-7.72 1.47 1.35L5.41 20z\"/>\n",
              "  </svg>\n",
              "      </button>\n",
              "      \n",
              "  <style>\n",
              "    .colab-df-container {\n",
              "      display:flex;\n",
              "      flex-wrap:wrap;\n",
              "      gap: 12px;\n",
              "    }\n",
              "\n",
              "    .colab-df-convert {\n",
              "      background-color: #E8F0FE;\n",
              "      border: none;\n",
              "      border-radius: 50%;\n",
              "      cursor: pointer;\n",
              "      display: none;\n",
              "      fill: #1967D2;\n",
              "      height: 32px;\n",
              "      padding: 0 0 0 0;\n",
              "      width: 32px;\n",
              "    }\n",
              "\n",
              "    .colab-df-convert:hover {\n",
              "      background-color: #E2EBFA;\n",
              "      box-shadow: 0px 1px 2px rgba(60, 64, 67, 0.3), 0px 1px 3px 1px rgba(60, 64, 67, 0.15);\n",
              "      fill: #174EA6;\n",
              "    }\n",
              "\n",
              "    [theme=dark] .colab-df-convert {\n",
              "      background-color: #3B4455;\n",
              "      fill: #D2E3FC;\n",
              "    }\n",
              "\n",
              "    [theme=dark] .colab-df-convert:hover {\n",
              "      background-color: #434B5C;\n",
              "      box-shadow: 0px 1px 3px 1px rgba(0, 0, 0, 0.15);\n",
              "      filter: drop-shadow(0px 1px 2px rgba(0, 0, 0, 0.3));\n",
              "      fill: #FFFFFF;\n",
              "    }\n",
              "  </style>\n",
              "\n",
              "      <script>\n",
              "        const buttonEl =\n",
              "          document.querySelector('#df-5fb02f01-1509-4efa-9db6-333b585b2e72 button.colab-df-convert');\n",
              "        buttonEl.style.display =\n",
              "          google.colab.kernel.accessAllowed ? 'block' : 'none';\n",
              "\n",
              "        async function convertToInteractive(key) {\n",
              "          const element = document.querySelector('#df-5fb02f01-1509-4efa-9db6-333b585b2e72');\n",
              "          const dataTable =\n",
              "            await google.colab.kernel.invokeFunction('convertToInteractive',\n",
              "                                                     [key], {});\n",
              "          if (!dataTable) return;\n",
              "\n",
              "          const docLinkHtml = 'Like what you see? Visit the ' +\n",
              "            '<a target=\"_blank\" href=https://colab.research.google.com/notebooks/data_table.ipynb>data table notebook</a>'\n",
              "            + ' to learn more about interactive tables.';\n",
              "          element.innerHTML = '';\n",
              "          dataTable['output_type'] = 'display_data';\n",
              "          await google.colab.output.renderOutput(dataTable, element);\n",
              "          const docLink = document.createElement('div');\n",
              "          docLink.innerHTML = docLinkHtml;\n",
              "          element.appendChild(docLink);\n",
              "        }\n",
              "      </script>\n",
              "    </div>\n",
              "  </div>\n",
              "  "
            ]
          },
          "metadata": {},
          "execution_count": 39
        }
      ]
    },
    {
      "cell_type": "code",
      "source": [
        "dataset = df.iloc[:,0].values"
      ],
      "metadata": {
        "id": "zqHO31KxCjWj"
      },
      "id": "zqHO31KxCjWj",
      "execution_count": 40,
      "outputs": []
    },
    {
      "cell_type": "code",
      "source": [
        "plt.plot(dataset)\n",
        "plt.xlabel('time')\n",
        "plt.ylabel('number of passengers')\n",
        "plt.title('Internatoinal Airline Passenger')\n",
        "plt.show()"
      ],
      "metadata": {
        "colab": {
          "base_uri": "https://localhost:8080/",
          "height": 472
        },
        "id": "zC-E-rCSBcBU",
        "outputId": "7177cb4e-0442-4b1a-ef3a-507f4cf54e3e"
      },
      "id": "zC-E-rCSBcBU",
      "execution_count": 41,
      "outputs": [
        {
          "output_type": "display_data",
          "data": {
            "text/plain": [
              "<Figure size 640x480 with 1 Axes>"
            ],
            "image/png": "[encoded data removed]"
          },
          "metadata": {}
        }
      ]
    },
    {
      "cell_type": "code",
      "source": [
        "dataset = dataset.reshape(-1,1)\n",
        "dataset = dataset.astype('float32')\n",
        "dataset.shape"
      ],
      "metadata": {
        "colab": {
          "base_uri": "https://localhost:8080/"
        },
        "id": "SzTVwoE_Bi5a",
        "outputId": "c3251da7-a36b-4d89-86fb-c813507f9156"
      },
      "id": "SzTVwoE_Bi5a",
      "execution_count": 42,
      "outputs": [
        {
          "output_type": "execute_result",
          "data": {
            "text/plain": [
              "(144, 1)"
            ]
          },
          "metadata": {},
          "execution_count": 42
        }
      ]
    },
    {
      "cell_type": "code",
      "source": [
        "scaler = MinMaxScaler(feature_range=(0,1))\n",
        "dataset = scaler.fit_transform(dataset)"
      ],
      "metadata": {
        "id": "0DrN-dyNCWkz"
      },
      "id": "0DrN-dyNCWkz",
      "execution_count": 43,
      "outputs": []
    },
    {
      "cell_type": "code",
      "source": [
        "# Training data and testing data size\n",
        "train_size = int(len(dataset)*0.50)\n",
        "test_size = len(dataset) - train_size\n",
        "train = dataset[0:train_size,:]\n",
        "test = dataset[train_size:len(dataset),:]\n",
        "print('train_size : {}, test_size : {}'.format(len(train),len(test)))"
      ],
      "metadata": {
        "colab": {
          "base_uri": "https://localhost:8080/"
        },
        "id": "f9_oq784DNet",
        "outputId": "7e571f72-9895-441f-9f07-4d95658955f0"
      },
      "id": "f9_oq784DNet",
      "execution_count": 44,
      "outputs": [
        {
          "output_type": "stream",
          "name": "stdout",
          "text": [
            "train_size : 72, test_size : 72\n"
          ]
        }
      ]
    },
    {
      "cell_type": "code",
      "source": [
        "# Training data\n",
        "timestamp=10\n",
        "dataX = []\n",
        "dataY = []\n",
        "for i in range(len(train)-timestamp-1):\n",
        "    a = train[i:(i+timestamp),0]\n",
        "    dataX.append(a)\n",
        "    dataY.append(train[i+timestamp,0])\n",
        "trainX = np.array(dataX)\n",
        "trainY = np.array(dataY)"
      ],
      "metadata": {
        "id": "1abQ7vpzDV38"
      },
      "id": "1abQ7vpzDV38",
      "execution_count": 45,
      "outputs": []
    },
    {
      "cell_type": "code",
      "source": [
        "# Testing data\n",
        "timestep=10\n",
        "dataX = []\n",
        "dataY = []\n",
        "for i in range(len(test)-timestamp-1):\n",
        "    a = test[i:(i+timestamp),0]\n",
        "    dataX.append(a)\n",
        "    dataY.append(test[i+timestamp,0])\n",
        "testX = np.array(dataX)\n",
        "testY = np.array(dataY)"
      ],
      "metadata": {
        "id": "EtN_8QfJDeH5"
      },
      "id": "EtN_8QfJDeH5",
      "execution_count": 46,
      "outputs": []
    },
    {
      "cell_type": "code",
      "source": [
        "# Training and testing data\n",
        "trainX = np.reshape(trainX,(trainX.shape[0],1,trainX.shape[1]))\n",
        "testX = np.reshape(testX,(testX.shape[0],1,testX.shape[1]))"
      ],
      "metadata": {
        "id": "ZZoDFtqNDgxf"
      },
      "id": "ZZoDFtqNDgxf",
      "execution_count": 47,
      "outputs": []
    },
    {
      "cell_type": "code",
      "source": [
        "# Model\n",
        "model = Sequential()\n",
        "model.add(LSTM(10, input_shape=(1, timestamp))) # 10 lstm neuron(block)\n",
        "model.add(Dense(1))\n",
        "model.compile(loss='mean_squared_error', optimizer='adam')\n",
        "model.fit(trainX, trainY, epochs=50, batch_size=1)"
      ],
      "metadata": {
        "colab": {
          "base_uri": "https://localhost:8080/"
        },
        "id": "Eir3ndWrDqQc",
        "outputId": "7560653f-f895-4eef-f5e6-2ed03c01a404"
      },
      "id": "Eir3ndWrDqQc",
      "execution_count": 48,
      "outputs": [
        {
          "output_type": "stream",
          "name": "stdout",
          "text": [
            "Epoch 1/50\n",
            "61/61 [==============================] - 2s 2ms/step - loss: 0.0178\n",
            "Epoch 2/50\n",
            "61/61 [==============================] - 0s 2ms/step - loss: 0.0040\n",
            "Epoch 3/50\n",
            "61/61 [==============================] - 0s 2ms/step - loss: 0.0032\n",
            "Epoch 4/50\n",
            "61/61 [==============================] - 0s 2ms/step - loss: 0.0030\n",
            "Epoch 5/50\n",
            "61/61 [==============================] - 0s 2ms/step - loss: 0.0028\n",
            "Epoch 6/50\n",
            "61/61 [==============================] - 0s 2ms/step - loss: 0.0026\n",
            "Epoch 7/50\n",
            "61/61 [==============================] - 0s 3ms/step - loss: 0.0025\n",
            "Epoch 8/50\n",
            "61/61 [==============================] - 0s 2ms/step - loss: 0.0024\n",
            "Epoch 9/50\n",
            "61/61 [==============================] - 0s 2ms/step - loss: 0.0024\n",
            "Epoch 10/50\n",
            "61/61 [==============================] - 0s 2ms/step - loss: 0.0022\n",
            "Epoch 11/50\n",
            "61/61 [==============================] - 0s 3ms/step - loss: 0.0022\n",
            "Epoch 12/50\n",
            "61/61 [==============================] - 0s 3ms/step - loss: 0.0021\n",
            "Epoch 13/50\n",
            "61/61 [==============================] - 0s 4ms/step - loss: 0.0020\n",
            "Epoch 14/50\n",
            "61/61 [==============================] - 0s 3ms/step - loss: 0.0020\n",
            "Epoch 15/50\n",
            "61/61 [==============================] - 0s 3ms/step - loss: 0.0019\n",
            "Epoch 16/50\n",
            "61/61 [==============================] - 0s 3ms/step - loss: 0.0018\n",
            "Epoch 17/50\n",
            "61/61 [==============================] - 0s 3ms/step - loss: 0.0017\n",
            "Epoch 18/50\n",
            "61/61 [==============================] - 0s 3ms/step - loss: 0.0019\n",
            "Epoch 19/50\n",
            "61/61 [==============================] - 0s 3ms/step - loss: 0.0018\n",
            "Epoch 20/50\n",
            "61/61 [==============================] - 0s 3ms/step - loss: 0.0017\n",
            "Epoch 21/50\n",
            "61/61 [==============================] - 0s 3ms/step - loss: 0.0017\n",
            "Epoch 22/50\n",
            "61/61 [==============================] - 0s 3ms/step - loss: 0.0017\n",
            "Epoch 23/50\n",
            "61/61 [==============================] - 0s 3ms/step - loss: 0.0016\n",
            "Epoch 24/50\n",
            "61/61 [==============================] - 0s 4ms/step - loss: 0.0016\n",
            "Epoch 25/50\n",
            "61/61 [==============================] - 0s 7ms/step - loss: 0.0015\n",
            "Epoch 26/50\n",
            "61/61 [==============================] - 0s 4ms/step - loss: 0.0015\n",
            "Epoch 27/50\n",
            "61/61 [==============================] - 0s 5ms/step - loss: 0.0015\n",
            "Epoch 28/50\n",
            "61/61 [==============================] - 0s 7ms/step - loss: 0.0015\n",
            "Epoch 29/50\n",
            "61/61 [==============================] - 0s 3ms/step - loss: 0.0015\n",
            "Epoch 30/50\n",
            "61/61 [==============================] - 0s 3ms/step - loss: 0.0014\n",
            "Epoch 31/50\n",
            "61/61 [==============================] - 0s 3ms/step - loss: 0.0014\n",
            "Epoch 32/50\n",
            "61/61 [==============================] - 0s 4ms/step - loss: 0.0013\n",
            "Epoch 33/50\n",
            "61/61 [==============================] - 0s 4ms/step - loss: 0.0015\n",
            "Epoch 34/50\n",
            "61/61 [==============================] - 0s 5ms/step - loss: 0.0013\n",
            "Epoch 35/50\n",
            "61/61 [==============================] - 0s 5ms/step - loss: 0.0014\n",
            "Epoch 36/50\n",
            "61/61 [==============================] - 0s 5ms/step - loss: 0.0014\n",
            "Epoch 37/50\n",
            "61/61 [==============================] - 0s 4ms/step - loss: 0.0014\n",
            "Epoch 38/50\n",
            "61/61 [==============================] - 0s 4ms/step - loss: 0.0013\n",
            "Epoch 39/50\n",
            "61/61 [==============================] - 0s 5ms/step - loss: 0.0013\n",
            "Epoch 40/50\n",
            "61/61 [==============================] - 0s 3ms/step - loss: 0.0013\n",
            "Epoch 41/50\n",
            "61/61 [==============================] - 0s 5ms/step - loss: 0.0012\n",
            "Epoch 42/50\n",
            "61/61 [==============================] - 0s 3ms/step - loss: 0.0013\n",
            "Epoch 43/50\n",
            "61/61 [==============================] - 0s 3ms/step - loss: 0.0011\n",
            "Epoch 44/50\n",
            "61/61 [==============================] - 0s 4ms/step - loss: 0.0012\n",
            "Epoch 45/50\n",
            "61/61 [==============================] - 0s 4ms/step - loss: 0.0012\n",
            "Epoch 46/50\n",
            "61/61 [==============================] - 0s 4ms/step - loss: 0.0011\n",
            "Epoch 47/50\n",
            "61/61 [==============================] - 0s 4ms/step - loss: 0.0012\n",
            "Epoch 48/50\n",
            "61/61 [==============================] - 0s 7ms/step - loss: 0.0011\n",
            "Epoch 49/50\n",
            "61/61 [==============================] - 0s 4ms/step - loss: 0.0014\n",
            "Epoch 50/50\n",
            "61/61 [==============================] - 0s 4ms/step - loss: 0.0013\n"
          ]
        },
        {
          "output_type": "execute_result",
          "data": {
            "text/plain": [
              "<keras.callbacks.History at 0x7ff034679820>"
            ]
          },
          "metadata": {},
          "execution_count": 48
        }
      ]
    },
    {
      "cell_type": "code",
      "source": [
        "trainPredict = model.predict(trainX)\n",
        "testPredict = model.predict(testX)\n",
        "\n",
        "trainPredict = scaler.inverse_transform(trainPredict)\n",
        "trainY = scaler.inverse_transform([trainY])\n",
        "testPredict = scaler.inverse_transform(testPredict)\n",
        "testY = scaler.inverse_transform([testY])\n",
        "\n",
        "trainScore = math.sqrt(mean_squared_error(trainY[0], trainPredict[:,0]))\n",
        "print('Train Score: %.2f RMSE' % (trainScore))\n",
        "testScore = math.sqrt(mean_squared_error(testY[0], testPredict[:,0]))\n",
        "print('Test Score: %.2f RMSE' % (testScore))"
      ],
      "metadata": {
        "colab": {
          "base_uri": "https://localhost:8080/"
        },
        "id": "RLE_ZBCbDwbC",
        "outputId": "1f407b16-c4b4-4b57-a1fa-65a56880eb74"
      },
      "id": "RLE_ZBCbDwbC",
      "execution_count": 49,
      "outputs": [
        {
          "output_type": "stream",
          "name": "stdout",
          "text": [
            "2/2 [==============================] - 1s 8ms/step\n",
            "2/2 [==============================] - 0s 9ms/step\n",
            "Train Score: 17.11 RMSE\n",
            "Test Score: 41.35 RMSE\n"
          ]
        }
      ]
    },
    {
      "cell_type": "code",
      "source": [
        "trainPredictPlot = np.empty_like(dataset)\n",
        "trainPredictPlot[:, :] = np.nan\n",
        "trainPredictPlot[timestamp:len(trainPredict)+timestamp, :] = trainPredict\n",
        "\n",
        "testPredictPlot = np.empty_like(dataset)\n",
        "testPredictPlot[:, :] = np.nan\n",
        "testPredictPlot[len(trainPredict)+(timestamp*2)+1:len(dataset)-1, :] = testPredict\n",
        "\n",
        "plt.plot(scaler.inverse_transform(dataset))\n",
        "plt.plot(trainPredictPlot)\n",
        "plt.plot(testPredictPlot)\n",
        "plt.show()"
      ],
      "metadata": {
        "colab": {
          "base_uri": "https://localhost:8080/",
          "height": 430
        },
        "id": "0mnmCZzwD4X-",
        "outputId": "d2d00d8f-aa3f-482a-cb63-dded7052d3b3"
      },
      "id": "0mnmCZzwD4X-",
      "execution_count": 50,
      "outputs": [
        {
          "output_type": "display_data",
          "data": {
            "text/plain": [
              "<Figure size 640x480 with 1 Axes>"
            ],
            "image/png": "[encoded data removed]"
          },
          "metadata": {}
        }
      ]
    },
    {
      "cell_type": "code",
      "source": [],
      "metadata": {
        "id": "lMdIqRRbD8JC"
      },
      "id": "lMdIqRRbD8JC",
      "execution_count": 50,
      "outputs": []
    }
  ],
  "metadata": {
    "kernelspec": {
      "display_name": "Python 3 (ipykernel)",
      "language": "python",
      "name": "python3"
    },
    "language_info": {
      "codemirror_mode": {
        "name": "ipython",
        "version": 3
      },
      "file_extension": ".py",
      "mimetype": "text/x-python",
      "name": "python",
      "nbconvert_exporter": "python",
      "pygments_lexer": "ipython3",
      "version": "3.9.7"
    },
    "colab": {
      "provenance": [],
      "include_colab_link": true
    }
  },
  "nbformat": 4,
  "nbformat_minor": 5
}